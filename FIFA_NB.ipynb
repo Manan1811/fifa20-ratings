{
  "nbformat": 4,
  "nbformat_minor": 0,
  "metadata": {
    "colab": {
      "name": "FIFA NB.ipynb",
      "provenance": [],
      "collapsed_sections": [],
      "authorship_tag": "ABX9TyNXWCf4ZuQGfmu+ygEPIdiJ",
      "include_colab_link": true
    },
    "kernelspec": {
      "name": "python3",
      "display_name": "Python 3"
    },
    "accelerator": "GPU"
  },
  "cells": [
    {
      "cell_type": "markdown",
      "metadata": {
        "id": "view-in-github",
        "colab_type": "text"
      },
      "source": [
        "<a href=\"https://colab.research.google.com/github/Manan1811/fifa20-ratings/blob/master/FIFA_NB.ipynb\" target=\"_parent\"><img src=\"https://colab.research.google.com/assets/colab-badge.svg\" alt=\"Open In Colab\"/></a>"
      ]
    },
    {
      "cell_type": "code",
      "metadata": {
        "id": "fAAN5BqllBBs",
        "colab_type": "code",
        "colab": {
          "base_uri": "https://localhost:8080/",
          "height": 87
        },
        "outputId": "9e21b24e-a874-4332-9c9a-79bd15b35591"
      },
      "source": [
        "import torch\n",
        "\n",
        "import os\n",
        "import numpy as np\n",
        "import pandas as pd\n",
        "from tqdm import tqdm\n",
        "import seaborn as sns\n",
        "from pylab import rcParams\n",
        "import matplotlib.pyplot as plt\n",
        "from matplotlib import rc\n",
        "import keras\n",
        "from sklearn.preprocessing import MinMaxScaler\n",
        "from pandas.plotting import register_matplotlib_converters\n",
        "from torch import nn, optim\n",
        "\n",
        "%matplotlib inline\n",
        "%config InlineBackend.figure_format='retina'\n",
        "\n",
        "sns.set(style='whitegrid', palette='muted', font_scale=1.2)\n",
        "\n",
        "HAPPY_COLORS_PALETTE = [\"#01BEFE\", \"#FFDD00\", \"#FF7D00\", \"#FF006D\", \"#93D30C\", \"#8F00FF\"]\n",
        "\n",
        "sns.set_palette(sns.color_palette(HAPPY_COLORS_PALETTE))\n",
        "\n",
        "rcParams['figure.figsize'] = 14, 10\n",
        "register_matplotlib_converters()\n",
        "\n",
        "RANDOM_SEED = 42\n",
        "np.random.seed(RANDOM_SEED)\n",
        "torch.manual_seed(RANDOM_SEED)"
      ],
      "execution_count": null,
      "outputs": [
        {
          "output_type": "stream",
          "text": [
            "/usr/local/lib/python3.6/dist-packages/statsmodels/tools/_testing.py:19: FutureWarning: pandas.util.testing is deprecated. Use the functions in the public API at pandas.testing instead.\n",
            "  import pandas.util.testing as tm\n"
          ],
          "name": "stderr"
        },
        {
          "output_type": "execute_result",
          "data": {
            "text/plain": [
              "<torch._C.Generator at 0x7ff1eb1390f0>"
            ]
          },
          "metadata": {
            "tags": []
          },
          "execution_count": 1
        }
      ]
    },
    {
      "cell_type": "code",
      "metadata": {
        "id": "dO8jlJ7dlRnZ",
        "colab_type": "code",
        "colab": {
          "base_uri": "https://localhost:8080/",
          "height": 121
        },
        "outputId": "f87c1f2b-0ef9-4101-a188-857857211699"
      },
      "source": [
        "from google.colab import drive\n",
        "drive.mount('/content/drive')"
      ],
      "execution_count": null,
      "outputs": [
        {
          "output_type": "stream",
          "text": [
            "Go to this URL in a browser: https://accounts.google.com/o/oauth2/auth?client_id=947318989803-6bn6qk8qdgf4n4g3pfee6491hc0brc4i.apps.googleusercontent.com&redirect_uri=urn%3aietf%3awg%3aoauth%3a2.0%3aoob&scope=email%20https%3a%2f%2fwww.googleapis.com%2fauth%2fdocs.test%20https%3a%2f%2fwww.googleapis.com%2fauth%2fdrive%20https%3a%2f%2fwww.googleapis.com%2fauth%2fdrive.photos.readonly%20https%3a%2f%2fwww.googleapis.com%2fauth%2fpeopleapi.readonly&response_type=code\n",
            "\n",
            "Enter your authorization code:\n",
            "··········\n",
            "Mounted at /content/drive\n"
          ],
          "name": "stdout"
        }
      ]
    },
    {
      "cell_type": "code",
      "metadata": {
        "id": "DNgQaZDJlUPY",
        "colab_type": "code",
        "colab": {
          "base_uri": "https://localhost:8080/",
          "height": 299
        },
        "outputId": "10efe525-0f09-4e08-8400-2262cf9e7e90"
      },
      "source": [
        "path = \"/content/drive/My Drive/FIFA_20.csv\"\n",
        "fifa= pd.read_csv(path)\n",
        "fifa.head()\n"
      ],
      "execution_count": null,
      "outputs": [
        {
          "output_type": "execute_result",
          "data": {
            "text/html": [
              "<div>\n",
              "<style scoped>\n",
              "    .dataframe tbody tr th:only-of-type {\n",
              "        vertical-align: middle;\n",
              "    }\n",
              "\n",
              "    .dataframe tbody tr th {\n",
              "        vertical-align: top;\n",
              "    }\n",
              "\n",
              "    .dataframe thead th {\n",
              "        text-align: right;\n",
              "    }\n",
              "</style>\n",
              "<table border=\"1\" class=\"dataframe\">\n",
              "  <thead>\n",
              "    <tr style=\"text-align: right;\">\n",
              "      <th></th>\n",
              "      <th>overall</th>\n",
              "      <th>name</th>\n",
              "      <th>nationality</th>\n",
              "      <th>club</th>\n",
              "      <th>position</th>\n",
              "      <th>preferred_foot</th>\n",
              "      <th>work_rate</th>\n",
              "      <th>jersey_number</th>\n",
              "      <th>wage_eur</th>\n",
              "      <th>international_reputation</th>\n",
              "      <th>weak_foot</th>\n",
              "      <th>skill_moves</th>\n",
              "      <th>age</th>\n",
              "      <th>height_cm</th>\n",
              "      <th>weight_kg</th>\n",
              "      <th>pace</th>\n",
              "      <th>shooting</th>\n",
              "      <th>passing</th>\n",
              "      <th>dribbling</th>\n",
              "      <th>defending</th>\n",
              "      <th>physic</th>\n",
              "      <th>finishing</th>\n",
              "      <th>fk_accuracy</th>\n",
              "      <th>acceleration</th>\n",
              "      <th>agility</th>\n",
              "      <th>stamina</th>\n",
              "      <th>penalties</th>\n",
              "      <th>composure</th>\n",
              "      <th>standing_tackle</th>\n",
              "      <th>sliding_tackle</th>\n",
              "    </tr>\n",
              "  </thead>\n",
              "  <tbody>\n",
              "    <tr>\n",
              "      <th>0</th>\n",
              "      <td>94</td>\n",
              "      <td>L. Messi</td>\n",
              "      <td>Argentina</td>\n",
              "      <td>FC Barcelona</td>\n",
              "      <td>Midfielder</td>\n",
              "      <td>Left</td>\n",
              "      <td>Medium</td>\n",
              "      <td>10</td>\n",
              "      <td>565000</td>\n",
              "      <td>5</td>\n",
              "      <td>4</td>\n",
              "      <td>4</td>\n",
              "      <td>32</td>\n",
              "      <td>170</td>\n",
              "      <td>72</td>\n",
              "      <td>87</td>\n",
              "      <td>92</td>\n",
              "      <td>92</td>\n",
              "      <td>96</td>\n",
              "      <td>39</td>\n",
              "      <td>66</td>\n",
              "      <td>95</td>\n",
              "      <td>94</td>\n",
              "      <td>91</td>\n",
              "      <td>93</td>\n",
              "      <td>75</td>\n",
              "      <td>75</td>\n",
              "      <td>96</td>\n",
              "      <td>37</td>\n",
              "      <td>26</td>\n",
              "    </tr>\n",
              "    <tr>\n",
              "      <th>1</th>\n",
              "      <td>93</td>\n",
              "      <td>Cristiano Ronaldo</td>\n",
              "      <td>Portugal</td>\n",
              "      <td>Juventus</td>\n",
              "      <td>Midfielder</td>\n",
              "      <td>Right</td>\n",
              "      <td>High</td>\n",
              "      <td>7</td>\n",
              "      <td>405000</td>\n",
              "      <td>5</td>\n",
              "      <td>4</td>\n",
              "      <td>5</td>\n",
              "      <td>34</td>\n",
              "      <td>187</td>\n",
              "      <td>83</td>\n",
              "      <td>90</td>\n",
              "      <td>93</td>\n",
              "      <td>82</td>\n",
              "      <td>89</td>\n",
              "      <td>35</td>\n",
              "      <td>78</td>\n",
              "      <td>94</td>\n",
              "      <td>76</td>\n",
              "      <td>89</td>\n",
              "      <td>87</td>\n",
              "      <td>85</td>\n",
              "      <td>85</td>\n",
              "      <td>95</td>\n",
              "      <td>32</td>\n",
              "      <td>24</td>\n",
              "    </tr>\n",
              "    <tr>\n",
              "      <th>2</th>\n",
              "      <td>92</td>\n",
              "      <td>Neymar Jr</td>\n",
              "      <td>Brazil</td>\n",
              "      <td>Paris Saint-Germain</td>\n",
              "      <td>Midfielder</td>\n",
              "      <td>Right</td>\n",
              "      <td>High</td>\n",
              "      <td>10</td>\n",
              "      <td>290000</td>\n",
              "      <td>5</td>\n",
              "      <td>5</td>\n",
              "      <td>5</td>\n",
              "      <td>27</td>\n",
              "      <td>175</td>\n",
              "      <td>68</td>\n",
              "      <td>91</td>\n",
              "      <td>85</td>\n",
              "      <td>87</td>\n",
              "      <td>95</td>\n",
              "      <td>32</td>\n",
              "      <td>58</td>\n",
              "      <td>87</td>\n",
              "      <td>87</td>\n",
              "      <td>94</td>\n",
              "      <td>96</td>\n",
              "      <td>81</td>\n",
              "      <td>90</td>\n",
              "      <td>94</td>\n",
              "      <td>26</td>\n",
              "      <td>29</td>\n",
              "    </tr>\n",
              "    <tr>\n",
              "      <th>3</th>\n",
              "      <td>91</td>\n",
              "      <td>E. Hazard</td>\n",
              "      <td>Belgium</td>\n",
              "      <td>Real Madrid</td>\n",
              "      <td>Midfielder</td>\n",
              "      <td>Right</td>\n",
              "      <td>High</td>\n",
              "      <td>7</td>\n",
              "      <td>470000</td>\n",
              "      <td>4</td>\n",
              "      <td>4</td>\n",
              "      <td>4</td>\n",
              "      <td>28</td>\n",
              "      <td>175</td>\n",
              "      <td>74</td>\n",
              "      <td>91</td>\n",
              "      <td>83</td>\n",
              "      <td>86</td>\n",
              "      <td>94</td>\n",
              "      <td>35</td>\n",
              "      <td>66</td>\n",
              "      <td>84</td>\n",
              "      <td>79</td>\n",
              "      <td>94</td>\n",
              "      <td>95</td>\n",
              "      <td>84</td>\n",
              "      <td>88</td>\n",
              "      <td>91</td>\n",
              "      <td>27</td>\n",
              "      <td>22</td>\n",
              "    </tr>\n",
              "    <tr>\n",
              "      <th>4</th>\n",
              "      <td>91</td>\n",
              "      <td>K. De Bruyne</td>\n",
              "      <td>Belgium</td>\n",
              "      <td>Manchester City</td>\n",
              "      <td>Midfielder</td>\n",
              "      <td>Right</td>\n",
              "      <td>High</td>\n",
              "      <td>17</td>\n",
              "      <td>370000</td>\n",
              "      <td>4</td>\n",
              "      <td>5</td>\n",
              "      <td>4</td>\n",
              "      <td>28</td>\n",
              "      <td>181</td>\n",
              "      <td>70</td>\n",
              "      <td>76</td>\n",
              "      <td>86</td>\n",
              "      <td>92</td>\n",
              "      <td>86</td>\n",
              "      <td>61</td>\n",
              "      <td>78</td>\n",
              "      <td>82</td>\n",
              "      <td>83</td>\n",
              "      <td>77</td>\n",
              "      <td>78</td>\n",
              "      <td>89</td>\n",
              "      <td>79</td>\n",
              "      <td>91</td>\n",
              "      <td>58</td>\n",
              "      <td>51</td>\n",
              "    </tr>\n",
              "  </tbody>\n",
              "</table>\n",
              "</div>"
            ],
            "text/plain": [
              "   overall               name  ... standing_tackle sliding_tackle\n",
              "0       94           L. Messi  ...              37             26\n",
              "1       93  Cristiano Ronaldo  ...              32             24\n",
              "2       92          Neymar Jr  ...              26             29\n",
              "3       91          E. Hazard  ...              27             22\n",
              "4       91       K. De Bruyne  ...              58             51\n",
              "\n",
              "[5 rows x 30 columns]"
            ]
          },
          "metadata": {
            "tags": []
          },
          "execution_count": 5
        }
      ]
    },
    {
      "cell_type": "code",
      "metadata": {
        "id": "5oj4F66Mlk0X",
        "colab_type": "code",
        "colab": {
          "base_uri": "https://localhost:8080/",
          "height": 195
        },
        "outputId": "cfc425c5-adfd-402b-c52a-2b8987e27248"
      },
      "source": [
        "skill_cols = [col for col in fifa.columns if col not in ('name', 'nationality', 'club', 'position', \n",
        "                                                         'preferred_foot', 'work_rate', 'jersey_number', \n",
        "                                                         'international_reputation', 'weak_foot', 'skill_moves', \n",
        "                                                         'wage_eur', 'age', 'height_cm', 'weight_kg')]\n",
        "fifa= pd.read_csv(path, usecols=skill_cols)\n",
        "fifa.head()"
      ],
      "execution_count": null,
      "outputs": [
        {
          "output_type": "execute_result",
          "data": {
            "text/html": [
              "<div>\n",
              "<style scoped>\n",
              "    .dataframe tbody tr th:only-of-type {\n",
              "        vertical-align: middle;\n",
              "    }\n",
              "\n",
              "    .dataframe tbody tr th {\n",
              "        vertical-align: top;\n",
              "    }\n",
              "\n",
              "    .dataframe thead th {\n",
              "        text-align: right;\n",
              "    }\n",
              "</style>\n",
              "<table border=\"1\" class=\"dataframe\">\n",
              "  <thead>\n",
              "    <tr style=\"text-align: right;\">\n",
              "      <th></th>\n",
              "      <th>overall</th>\n",
              "      <th>pace</th>\n",
              "      <th>shooting</th>\n",
              "      <th>passing</th>\n",
              "      <th>dribbling</th>\n",
              "      <th>defending</th>\n",
              "      <th>physic</th>\n",
              "      <th>finishing</th>\n",
              "      <th>fk_accuracy</th>\n",
              "      <th>acceleration</th>\n",
              "      <th>agility</th>\n",
              "      <th>stamina</th>\n",
              "      <th>penalties</th>\n",
              "      <th>composure</th>\n",
              "      <th>standing_tackle</th>\n",
              "      <th>sliding_tackle</th>\n",
              "    </tr>\n",
              "  </thead>\n",
              "  <tbody>\n",
              "    <tr>\n",
              "      <th>0</th>\n",
              "      <td>94</td>\n",
              "      <td>87</td>\n",
              "      <td>92</td>\n",
              "      <td>92</td>\n",
              "      <td>96</td>\n",
              "      <td>39</td>\n",
              "      <td>66</td>\n",
              "      <td>95</td>\n",
              "      <td>94</td>\n",
              "      <td>91</td>\n",
              "      <td>93</td>\n",
              "      <td>75</td>\n",
              "      <td>75</td>\n",
              "      <td>96</td>\n",
              "      <td>37</td>\n",
              "      <td>26</td>\n",
              "    </tr>\n",
              "    <tr>\n",
              "      <th>1</th>\n",
              "      <td>93</td>\n",
              "      <td>90</td>\n",
              "      <td>93</td>\n",
              "      <td>82</td>\n",
              "      <td>89</td>\n",
              "      <td>35</td>\n",
              "      <td>78</td>\n",
              "      <td>94</td>\n",
              "      <td>76</td>\n",
              "      <td>89</td>\n",
              "      <td>87</td>\n",
              "      <td>85</td>\n",
              "      <td>85</td>\n",
              "      <td>95</td>\n",
              "      <td>32</td>\n",
              "      <td>24</td>\n",
              "    </tr>\n",
              "    <tr>\n",
              "      <th>2</th>\n",
              "      <td>92</td>\n",
              "      <td>91</td>\n",
              "      <td>85</td>\n",
              "      <td>87</td>\n",
              "      <td>95</td>\n",
              "      <td>32</td>\n",
              "      <td>58</td>\n",
              "      <td>87</td>\n",
              "      <td>87</td>\n",
              "      <td>94</td>\n",
              "      <td>96</td>\n",
              "      <td>81</td>\n",
              "      <td>90</td>\n",
              "      <td>94</td>\n",
              "      <td>26</td>\n",
              "      <td>29</td>\n",
              "    </tr>\n",
              "    <tr>\n",
              "      <th>3</th>\n",
              "      <td>91</td>\n",
              "      <td>91</td>\n",
              "      <td>83</td>\n",
              "      <td>86</td>\n",
              "      <td>94</td>\n",
              "      <td>35</td>\n",
              "      <td>66</td>\n",
              "      <td>84</td>\n",
              "      <td>79</td>\n",
              "      <td>94</td>\n",
              "      <td>95</td>\n",
              "      <td>84</td>\n",
              "      <td>88</td>\n",
              "      <td>91</td>\n",
              "      <td>27</td>\n",
              "      <td>22</td>\n",
              "    </tr>\n",
              "    <tr>\n",
              "      <th>4</th>\n",
              "      <td>91</td>\n",
              "      <td>76</td>\n",
              "      <td>86</td>\n",
              "      <td>92</td>\n",
              "      <td>86</td>\n",
              "      <td>61</td>\n",
              "      <td>78</td>\n",
              "      <td>82</td>\n",
              "      <td>83</td>\n",
              "      <td>77</td>\n",
              "      <td>78</td>\n",
              "      <td>89</td>\n",
              "      <td>79</td>\n",
              "      <td>91</td>\n",
              "      <td>58</td>\n",
              "      <td>51</td>\n",
              "    </tr>\n",
              "  </tbody>\n",
              "</table>\n",
              "</div>"
            ],
            "text/plain": [
              "   overall  pace  shooting  ...  composure  standing_tackle  sliding_tackle\n",
              "0       94    87        92  ...         96               37              26\n",
              "1       93    90        93  ...         95               32              24\n",
              "2       92    91        85  ...         94               26              29\n",
              "3       91    91        83  ...         91               27              22\n",
              "4       91    76        86  ...         91               58              51\n",
              "\n",
              "[5 rows x 16 columns]"
            ]
          },
          "metadata": {
            "tags": []
          },
          "execution_count": 8
        }
      ]
    },
    {
      "cell_type": "markdown",
      "metadata": {
        "id": "pJvWIXfNpRhr",
        "colab_type": "text"
      },
      "source": [
        "#DEEP Learning Model"
      ]
    },
    {
      "cell_type": "code",
      "metadata": {
        "id": "lqQ9nupKsOqv",
        "colab_type": "code",
        "colab": {}
      },
      "source": [
        "import warnings\n",
        "warnings.filterwarnings('ignore')\n",
        "\n",
        "import pickle\n",
        "import matplotlib.pyplot as plt\n",
        "import numpy as np\n",
        "import pandas as pd\n",
        "import seaborn as sns\n",
        "import sys\n",
        "\n",
        "import keras\n",
        "from keras.layers import Conv2D, Conv2DTranspose, UpSampling2D, MaxPool2D, Flatten, BatchNormalization\n",
        "from keras.layers import Conv1D, MaxPool1D, Reshape\n",
        "from keras.layers import Input, Dense, Dropout, Activation, Add, Concatenate\n",
        "from keras.datasets import cifar10, mnist\n",
        "from keras import regularizers\n",
        "from keras.models import Model, Sequential\n",
        "from keras.callbacks import ModelCheckpoint, ReduceLROnPlateau, EarlyStopping\n",
        "from keras.optimizers import SGD, Adam, RMSprop, Adadelta\n",
        "import keras.backend as K\n",
        "from keras.objectives import mean_squared_error\n",
        "from keras.preprocessing.image import ImageDataGenerator\n",
        "from keras.utils import np_utils\n",
        "\n",
        "from sklearn.utils import class_weight\n",
        "from sklearn.metrics import classification_report, accuracy_score, confusion_matrix\n",
        "from sklearn import svm\n",
        "from sklearn.ensemble import RandomForestClassifier\n",
        "from sklearn.neighbors import KNeighborsClassifier\n",
        "from sklearn.linear_model import LogisticRegression\n",
        "from sklearn.pipeline import Pipeline\n",
        "from sklearn.preprocessing import MinMaxScaler, LabelBinarizer, RobustScaler, StandardScaler\n",
        "\n",
        "from hyperopt import fmin, tpe, hp, STATUS_OK, Trials"
      ],
      "execution_count": null,
      "outputs": []
    },
    {
      "cell_type": "code",
      "metadata": {
        "id": "YZzqNt2QpCv7",
        "colab_type": "code",
        "colab": {
          "base_uri": "https://localhost:8080/",
          "height": 134
        },
        "outputId": "2e8d4105-4386-412f-b485-b20d292cb3ed"
      },
      "source": [
        "y=fifa[['overall']]\n",
        "X=fifa.drop(columns=['overall'], axis=1)\n",
        "X=X.values\n",
        "X\n",
        "\n"
      ],
      "execution_count": null,
      "outputs": [
        {
          "output_type": "execute_result",
          "data": {
            "text/plain": [
              "array([[87, 92, 92, ..., 96, 37, 26],\n",
              "       [90, 93, 82, ..., 95, 32, 24],\n",
              "       [91, 85, 87, ..., 94, 26, 29],\n",
              "       ...,\n",
              "       [54, 35, 44, ..., 39, 52, 46],\n",
              "       [59, 35, 47, ..., 40, 44, 54],\n",
              "       [60, 32, 51, ..., 42, 42, 48]])"
            ]
          },
          "metadata": {
            "tags": []
          },
          "execution_count": 96
        }
      ]
    },
    {
      "cell_type": "code",
      "metadata": {
        "id": "Bidz8EGTqK8L",
        "colab_type": "code",
        "colab": {
          "base_uri": "https://localhost:8080/",
          "height": 134
        },
        "outputId": "bf0163bd-0cc2-45b3-bded-8de6db13e257"
      },
      "source": [
        "y=y.values\n",
        "y"
      ],
      "execution_count": null,
      "outputs": [
        {
          "output_type": "execute_result",
          "data": {
            "text/plain": [
              "array([[94],\n",
              "       [93],\n",
              "       [92],\n",
              "       ...,\n",
              "       [48],\n",
              "       [48],\n",
              "       [48]])"
            ]
          },
          "metadata": {
            "tags": []
          },
          "execution_count": 97
        }
      ]
    },
    {
      "cell_type": "code",
      "metadata": {
        "id": "-hOuepZqz_vG",
        "colab_type": "code",
        "colab": {}
      },
      "source": [
        "from sklearn.model_selection import train_test_split\n",
        "X_train, X_test, y_train, y_test = train_test_split(X, y, test_size=0.2, random_state=42)"
      ],
      "execution_count": null,
      "outputs": []
    },
    {
      "cell_type": "code",
      "metadata": {
        "id": "m82kER1Kr7IF",
        "colab_type": "code",
        "colab": {}
      },
      "source": [
        "X_train = StandardScaler().fit_transform(X_train)\n",
        "y_train = StandardScaler().fit_transform(y_train)"
      ],
      "execution_count": null,
      "outputs": []
    },
    {
      "cell_type": "code",
      "metadata": {
        "id": "JKMv9_vY-vCt",
        "colab_type": "code",
        "colab": {
          "base_uri": "https://localhost:8080/",
          "height": 252
        },
        "outputId": "0fc2dcba-28da-41bc-97e3-6eff68e007b6"
      },
      "source": [
        "X_test = StandardScaler().fit_transform(X_test)\n",
        "transformer = StandardScaler()\n",
        "transformer.fit(y_test)\n",
        "# difference transform\n",
        "transformed = transformer.transform(y_test)\n",
        "print(transformed)\n",
        "# invert difference\n",
        "inverted = transformer.inverse_transform(transformed)\n",
        "print(inverted)"
      ],
      "execution_count": null,
      "outputs": [
        {
          "output_type": "stream",
          "text": [
            "[[-0.92336124]\n",
            " [ 0.68002957]\n",
            " [ 0.68002957]\n",
            " ...\n",
            " [ 0.38850397]\n",
            " [-0.48607284]\n",
            " [-1.65217525]]\n",
            "[[60.]\n",
            " [71.]\n",
            " [71.]\n",
            " ...\n",
            " [69.]\n",
            " [63.]\n",
            " [55.]]\n"
          ],
          "name": "stdout"
        }
      ]
    },
    {
      "cell_type": "code",
      "metadata": {
        "id": "iUoTgcZjr8eV",
        "colab_type": "code",
        "colab": {
          "base_uri": "https://localhost:8080/",
          "height": 319
        },
        "outputId": "7ac3ced0-dac7-4073-cc86-72546e0fb99e"
      },
      "source": [
        "model = Sequential()\n",
        "model.add(Dense(16, input_dim=15, activation='relu'))\n",
        "model.add(Dropout(0.5))\n",
        "model.add(Dense(8, activation='relu'))\n",
        "model.add(BatchNormalization())\n",
        "model.add(Dense(1, activation='sigmoid'))\n",
        "model.summary()"
      ],
      "execution_count": null,
      "outputs": [
        {
          "output_type": "stream",
          "text": [
            "Model: \"sequential_19\"\n",
            "_________________________________________________________________\n",
            "Layer (type)                 Output Shape              Param #   \n",
            "=================================================================\n",
            "dense_105 (Dense)            (None, 16)                256       \n",
            "_________________________________________________________________\n",
            "dropout_34 (Dropout)         (None, 16)                0         \n",
            "_________________________________________________________________\n",
            "dense_106 (Dense)            (None, 8)                 136       \n",
            "_________________________________________________________________\n",
            "batch_normalization_64 (Batc (None, 8)                 32        \n",
            "_________________________________________________________________\n",
            "dense_107 (Dense)            (None, 1)                 9         \n",
            "=================================================================\n",
            "Total params: 433\n",
            "Trainable params: 417\n",
            "Non-trainable params: 16\n",
            "_________________________________________________________________\n"
          ],
          "name": "stdout"
        }
      ]
    },
    {
      "cell_type": "code",
      "metadata": {
        "id": "KAOzVXbxs89h",
        "colab_type": "code",
        "colab": {
          "base_uri": "https://localhost:8080/",
          "height": 689
        },
        "outputId": "a2149470-1554-46a3-ff02-857504ca635d"
      },
      "source": [
        "model.compile(loss='mse', optimizer='adam')\n",
        "history=model.fit(X_train, y_train,validation_split=0.1,epochs=20,shuffle=True)\n"
      ],
      "execution_count": null,
      "outputs": [
        {
          "output_type": "stream",
          "text": [
            "Epoch 1/20\n",
            "361/361 [==============================] - 1s 3ms/step - loss: 0.8166 - val_loss: 0.6153\n",
            "Epoch 2/20\n",
            "361/361 [==============================] - 1s 3ms/step - loss: 0.7049 - val_loss: 0.5987\n",
            "Epoch 3/20\n",
            "361/361 [==============================] - 1s 3ms/step - loss: 0.6863 - val_loss: 0.5932\n",
            "Epoch 4/20\n",
            "361/361 [==============================] - 1s 3ms/step - loss: 0.6707 - val_loss: 0.5903\n",
            "Epoch 5/20\n",
            "361/361 [==============================] - 1s 3ms/step - loss: 0.6656 - val_loss: 0.5977\n",
            "Epoch 6/20\n",
            "361/361 [==============================] - 1s 3ms/step - loss: 0.6584 - val_loss: 0.5949\n",
            "Epoch 7/20\n",
            "361/361 [==============================] - 1s 3ms/step - loss: 0.6543 - val_loss: 0.5918\n",
            "Epoch 8/20\n",
            "361/361 [==============================] - 1s 3ms/step - loss: 0.6488 - val_loss: 0.6017\n",
            "Epoch 9/20\n",
            "361/361 [==============================] - 1s 3ms/step - loss: 0.6420 - val_loss: 0.6030\n",
            "Epoch 10/20\n",
            "361/361 [==============================] - 1s 3ms/step - loss: 0.6419 - val_loss: 0.5996\n",
            "Epoch 11/20\n",
            "361/361 [==============================] - 1s 3ms/step - loss: 0.6405 - val_loss: 0.5950\n",
            "Epoch 12/20\n",
            "361/361 [==============================] - 1s 3ms/step - loss: 0.6350 - val_loss: 0.5871\n",
            "Epoch 13/20\n",
            "361/361 [==============================] - 1s 3ms/step - loss: 0.6334 - val_loss: 0.5877\n",
            "Epoch 14/20\n",
            "361/361 [==============================] - 1s 3ms/step - loss: 0.6324 - val_loss: 0.5755\n",
            "Epoch 15/20\n",
            "361/361 [==============================] - 1s 3ms/step - loss: 0.6312 - val_loss: 0.5778\n",
            "Epoch 16/20\n",
            "361/361 [==============================] - 1s 3ms/step - loss: 0.6282 - val_loss: 0.5811\n",
            "Epoch 17/20\n",
            "361/361 [==============================] - 1s 3ms/step - loss: 0.6263 - val_loss: 0.5763\n",
            "Epoch 18/20\n",
            "361/361 [==============================] - 1s 3ms/step - loss: 0.6256 - val_loss: 0.5750\n",
            "Epoch 19/20\n",
            "361/361 [==============================] - 1s 3ms/step - loss: 0.6265 - val_loss: 0.5694\n",
            "Epoch 20/20\n",
            "361/361 [==============================] - 1s 3ms/step - loss: 0.6236 - val_loss: 0.5679\n"
          ],
          "name": "stdout"
        }
      ]
    },
    {
      "cell_type": "code",
      "metadata": {
        "id": "spH8IBQ6zR73",
        "colab_type": "code",
        "colab": {
          "base_uri": "https://localhost:8080/",
          "height": 288
        },
        "outputId": "e5911c10-ee3e-48d1-b9fa-549801810b71"
      },
      "source": [
        "from matplotlib import pyplot\n",
        "pyplot.title('Loss / Mean Squared Error')\n",
        "pyplot.plot(history.history['loss'], label='train')\n",
        "pyplot.plot(history.history['val_loss'], label='test')\n",
        "pyplot.legend()\n",
        "pyplot.show()"
      ],
      "execution_count": null,
      "outputs": [
        {
          "output_type": "display_data",
          "data": {
            "image/png": "[encoded data removed]",
            "text/plain": [
              "<Figure size 432x288 with 1 Axes>"
            ]
          },
          "metadata": {
            "tags": [],
            "image/png": {
              "width": 388,
              "height": 271
            },
            "needs_background": "light"
          }
        }
      ]
    },
    {
      "cell_type": "code",
      "metadata": {
        "id": "3jK2OGYj18g4",
        "colab_type": "code",
        "colab": {
          "base_uri": "https://localhost:8080/",
          "height": 134
        },
        "outputId": "e8a5e09e-cca5-4698-ad9c-f0edc9229e78"
      },
      "source": [
        "y_pred=model.predict(X_test)\n",
        "y_pred"
      ],
      "execution_count": null,
      "outputs": [
        {
          "output_type": "execute_result",
          "data": {
            "text/plain": [
              "array([[3.3202925e-04],\n",
              "       [6.3208884e-01],\n",
              "       [2.6280034e-01],\n",
              "       ...,\n",
              "       [1.7577501e-02],\n",
              "       [5.4595852e-03],\n",
              "       [3.9438310e-04]], dtype=float32)"
            ]
          },
          "metadata": {
            "tags": []
          },
          "execution_count": 152
        }
      ]
    },
    {
      "cell_type": "code",
      "metadata": {
        "id": "zaQBggn2-7OA",
        "colab_type": "code",
        "colab": {
          "base_uri": "https://localhost:8080/",
          "height": 353
        },
        "outputId": "5ec7e391-5a47-4bf5-9ea4-f483c738bcf1"
      },
      "source": [
        "yhat=transformer.inverse_transform(y_pred)\n",
        "yhat[:20]"
      ],
      "execution_count": null,
      "outputs": [
        {
          "output_type": "execute_result",
          "data": {
            "text/plain": [
              "array([[66.33696 ],\n",
              "       [70.671104],\n",
              "       [68.13761 ],\n",
              "       [66.33699 ],\n",
              "       [66.47997 ],\n",
              "       [66.547874],\n",
              "       [66.339554],\n",
              "       [66.35527 ],\n",
              "       [66.444244],\n",
              "       [67.61984 ],\n",
              "       [69.22238 ],\n",
              "       [72.572624],\n",
              "       [66.41134 ],\n",
              "       [66.33773 ],\n",
              "       [66.470665],\n",
              "       [66.34769 ],\n",
              "       [71.081474],\n",
              "       [66.36747 ],\n",
              "       [66.33909 ],\n",
              "       [73.06226 ]], dtype=float32)"
            ]
          },
          "metadata": {
            "tags": []
          },
          "execution_count": 158
        }
      ]
    },
    {
      "cell_type": "code",
      "metadata": {
        "id": "yG9bIgZP8ZLK",
        "colab_type": "code",
        "colab": {
          "base_uri": "https://localhost:8080/",
          "height": 353
        },
        "outputId": "aac6c1c1-8418-4a22-c303-cfaeb13a1788"
      },
      "source": [
        "y_test[:20]"
      ],
      "execution_count": null,
      "outputs": [
        {
          "output_type": "execute_result",
          "data": {
            "text/plain": [
              "array([[60],\n",
              "       [71],\n",
              "       [71],\n",
              "       [54],\n",
              "       [67],\n",
              "       [69],\n",
              "       [55],\n",
              "       [63],\n",
              "       [68],\n",
              "       [70],\n",
              "       [69],\n",
              "       [75],\n",
              "       [65],\n",
              "       [62],\n",
              "       [67],\n",
              "       [64],\n",
              "       [75],\n",
              "       [65],\n",
              "       [58],\n",
              "       [75]])"
            ]
          },
          "metadata": {
            "tags": []
          },
          "execution_count": 159
        }
      ]
    },
    {
      "cell_type": "code",
      "metadata": {
        "id": "ZM_p64ukBFLz",
        "colab_type": "code",
        "colab": {
          "base_uri": "https://localhost:8080/",
          "height": 34
        },
        "outputId": "2f5894a3-d4d8-4592-beeb-c9a4b050bcde"
      },
      "source": [
        "from sklearn.metrics import r2_score\n",
        "r2_score(y_test, yhat)"
      ],
      "execution_count": null,
      "outputs": [
        {
          "output_type": "execute_result",
          "data": {
            "text/plain": [
              "0.3823720159058923"
            ]
          },
          "metadata": {
            "tags": []
          },
          "execution_count": 155
        }
      ]
    },
    {
      "cell_type": "code",
      "metadata": {
        "id": "cor6IsAZCbzz",
        "colab_type": "code",
        "colab": {}
      },
      "source": [
        ""
      ],
      "execution_count": null,
      "outputs": []
    }
  ]
}